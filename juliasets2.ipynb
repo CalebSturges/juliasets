{
 "cells": [
  {
   "cell_type": "markdown",
   "metadata": {
    "collapsed": false
   },
   "source": [
    "# Julia Sets 2\n",
    "\n",
    "NumPy JuliaSets\n",
    "\n",
    "Caleb Sturges"
   ]
  },
  {
   "cell_type": "code",
   "execution_count": 2,
   "metadata": {
    "collapsed": true
   },
   "outputs": [],
   "source": [
    "import numpy as np\n",
    "import matplotlib.pyplot as plt\n",
    "\n",
    "class JuliaSet:\n",
    "    def __init__(self, c, n=100):   \n",
    "        self.c = c\n",
    "        self.n = n\n",
    "        self._d=.001\n",
    "        self._complexplane = []\n",
    "        for i in (0, 4/self._d):\n",
    "            for k in (0, 4/self._d):\n",
    "                self._complexplane.append(complex(-2+i*self._d,-2j+k*self._d) )\n",
    "\n",
    "    def juliamap(self, z):\n",
    "        return self.c+z**2\n",
    "    \n",
    "    def iterate(self, z):\n",
    "        m = 1\n",
    "        runningz = z\n",
    "        while True:\n",
    "            juliamap(self, z)\n",
    "            if abs(runningz)>2:\n",
    "                return m\n",
    "            elif m>=n:\n",
    "                return 0\n",
    "            else:\n",
    "                m+=1\n",
    "\n",
    "    def set_spacing(self, _d):\n",
    "        self._d = _d\n",
    "        self._complexplane = []\n",
    "        for i in np.arange(-2, 2, self._d):\n",
    "            for j in np.arange(-2, 2, self._d):\n",
    "                self._complexplane.append(complex(i, j))\n",
    "        return self._complexplane       \n",
    "    \n",
    "    def generate(self):\n",
    "        self._d\n",
    "        self.set=[]\n",
    "        for i in np.arange(-2, 2, self._d):\n",
    "            for j in np.arange(-2, 2, self._d):\n",
    "                self.set.append(complex(i,j))\n",
    "        return self.set\n",
    "    \n",
    "def frange(start, stop, step):\n",
    "    i = start\n",
    "    while i < stop:\n",
    "        yield i\n",
    "        i += step   \n",
    "        \n",
    "\n",
    "myJuliaSet=JuliaSet(0, 100)\n"
   ]
  },
  {
   "cell_type": "code",
   "execution_count": null,
   "metadata": {
    "collapsed": true
   },
   "outputs": [],
   "source": []
  }
 ],
 "metadata": {
  "kernelspec": {
   "display_name": "Python 2",
   "language": "python",
   "name": "python2"
  },
  "language_info": {
   "codemirror_mode": {
    "name": "ipython",
    "version": 2
   },
   "file_extension": ".py",
   "mimetype": "text/x-python",
   "name": "python",
   "nbconvert_exporter": "python",
   "pygments_lexer": "ipython2",
   "version": "2.7.9"
  },
  "name": "juliasets2.ipynb"
 },
 "nbformat": 4,
 "nbformat_minor": 0
}
