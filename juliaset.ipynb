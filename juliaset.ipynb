{
 "cells": [
  {
   "cell_type": "markdown",
   "metadata": {
    "collapsed": false
   },
   "source": [
    "# Julia Sets\n",
    "\n",
    "Caleb Sturges\n"
   ]
  },
  {
   "cell_type": "code",
   "execution_count": 1,
   "metadata": {
    "collapsed": false
   },
   "outputs": [],
   "source": [
    "class JuliaSet:\n",
    "    def __init__(self, c, n=100):   \n",
    "        self.c = c\n",
    "        self.n = n\n",
    "        self._d=.001\n",
    "        self._complexplane = []\n",
    "        for i in (0, 4/self._d):\n",
    "            for k in (0, 4/self._d):\n",
    "                self._complexplane.append(complex(-2+i*self._d,-2j+k*self._d))\n",
    "\n",
    "    def juliamap(self, z):\n",
    "        return self.c+z**2\n",
    "    \n",
    "    def iterate(self, z):\n",
    "        m = 1\n",
    "        runningz = z\n",
    "        while True:\n",
    "            juliamap(self, z)\n",
    "            if abs(runningz)>2:\n",
    "                return m\n",
    "            elif m>=n:\n",
    "                return 0\n",
    "            else:\n",
    "                m+=1\n",
    "\n",
    "    def set_spacing(self, _d):\n",
    "        self._d = _d\n",
    "        self._complexplane = []\n",
    "        for i in frange(-2, 2, self._d):\n",
    "            for j in frange(-2, 2, self._d):\n",
    "                self._complexplane.append(complex(i, j))\n",
    "        return self._complexplane       \n",
    "    \n",
    "    def generate(self):\n",
    "        self._d\n",
    "        self.set=[]\n",
    "        for i in frange(-2, 2, self._d):\n",
    "            for j in frange(-2, 2, self._d):\n",
    "                self.set.append(complex(i,j))\n",
    "        return self.set\n",
    "    \n",
    "def frange(start, stop, step):\n",
    "    i = start\n",
    "    while i < stop:\n",
    "        yield i\n",
    "        i += step   \n",
    "        \n",
    "\n",
    "myJuliaSet=JuliaSet(0, 100)\n",
    "\n"
   ]
  },
  {
   "cell_type": "code",
   "execution_count": null,
   "metadata": {
    "collapsed": false,
    "scrolled": false
   },
   "outputs": [],
   "source": []
  },
  {
   "cell_type": "code",
   "execution_count": 2,
   "metadata": {
    "collapsed": false,
    "scrolled": true
   },
   "outputs": [],
   "source": [
    "from random import uniform, randint\n",
    "from math import sqrt\n",
    "from nose import with_setup\n",
    "\n",
    "###\n",
    "# Test Suite for specified JuliaSet interface\n",
    "#\n",
    "# Run with the command: \"nosetests juliatests.py\"\n",
    "###\n",
    "\n",
    "\n",
    "# Custom random numbers\n",
    "\n",
    "def rand_range():\n",
    "    \"\"\"Return a random complex number bounded by real and imaginary axes [-2, 2]\"\"\"\n",
    "    return (uniform(-2,2) + uniform(-2,2)*1j)\n",
    "\n",
    "def rand_circle():\n",
    "    \"\"\"Return a random complex number within the unit circle\"\"\"\n",
    "    r = uniform(-1,1)\n",
    "    dr = sqrt(1 - r**2)\n",
    "    i = uniform(-dr, dr)\n",
    "    return (r + i*1j)\n",
    "\n",
    "# Test classes for several cases\n",
    "    \n",
    "class TestRandomC:\n",
    "    \"\"\"Define a julia set with a random c seed value, test interface\"\"\"\n",
    "    \n",
    "    def setup(self):\n",
    "        \"\"\"Setup fixture is run before every test method separately\"\"\"\n",
    "        self.c = rand_range()\n",
    "        self.n = randint(2,100)\n",
    "        self.j = JuliaSet(self.c, self.n)\n",
    "        \n",
    "    def test_c_value(self):\n",
    "        \"\"\"Test that c is an attribute\"\"\"\n",
    "        assert self.j.c == self.c\n",
    "    \n",
    "    def test_n_value(self):\n",
    "        \"\"\"Test that n is an attribute\"\"\"\n",
    "        assert self.j.n == self.n\n",
    "    \n",
    "    def test_juliamap(self):\n",
    "        \"\"\"Test that juliamap is implemented properly\"\"\"\n",
    "        z = rand_range()\n",
    "        print \"z = \", z\n",
    "        print \"z**2 = \", z**2\n",
    "        zcorrect = z**2 + self.c\n",
    "        print \"z**2 + c = \", zcorrect\n",
    "        znew = self.j.juliamap(z)\n",
    "        print \"juliamap(z) = \", znew\n",
    "        assert znew == zcorrect\n",
    "    \n",
    "    def test_set_spacing(self):\n",
    "        \"\"\"Test that changing spacing works\"\"\"\n",
    "        print \"Test original spacing _d = 0.001\"\n",
    "        assert self.j._d == 0.001\n",
    "        print \"Test new spacing of _d = 0.1\"\n",
    "        self.j.set_spacing(0.1)\n",
    "        print \"_d = \", self.j._d\n",
    "        assert self.j._d == 0.1\n",
    "        print \"Test that complex plane is regenerated\"\n",
    "        print \"len(_complexplane) = \", len(self.j._complexplane)\n",
    "        print \"int(4.0 / 0.1)**2 = \", int(4.0 / 0.1)**2\n",
    "        assert len(self.j._complexplane) == int(4.0 / 0.1)**2\n",
    "    \n",
    "    def test_generate(self):\n",
    "        \"\"\"Test that generating the julia set works\"\"\"\n",
    "        self.j.set_spacing(0.1)\n",
    "        self.j.generate()\n",
    "        print \"Test that j.set exists, and is of the same length as j._complexplane\"\n",
    "        assert (len(self.j.set) == len(self.j._complexplane))\n",
    "\n",
    "class TestTrivial:\n",
    "    \"\"\"Test that a seed value of c=0 leaves the unit circle invariant\"\"\"\n",
    "    \n",
    "    @classmethod\n",
    "    def setup_class(cls):\n",
    "        cls.j = JuliaSet(0)\n",
    "    \n",
    "    def test_trivial_seed(self):\n",
    "        def check_z(z):\n",
    "            \"\"\"Test all z inside unit circle return 0\"\"\"\n",
    "            m = TestTrivial.j.iterate(z)\n",
    "            print \"m = \", m\n",
    "            assert m == 0\n",
    "        # A generator like this runs a test for every yield\n",
    "        for _ in xrange(100):\n",
    "            z = rand_circle()\n",
    "            yield check_z, z\n",
    "\n",
    "class TestHuge:\n",
    "    \"\"\"Test that a huge seed always causes a divergence after 1 iteration\"\"\"\n",
    "    \n",
    "    @classmethod\n",
    "    def setup_class(cls):\n",
    "        cls.j = JuliaSet(16)\n",
    "    \n",
    "    def test_huge_seed(self):\n",
    "        def check_z(z):\n",
    "            \"\"\"Test all z escape after 1 iteration\"\"\"\n",
    "            print \"z = \", z\n",
    "            print \"z**2 = \", z**2\n",
    "            print \"z**2 + c = \", z**2 + 16\n",
    "            print \"juliamap(z) = \", TestHuge.j.juliamap(z)\n",
    "            assert TestHuge.j.iterate(z) == 1\n",
    "        # Again, a generator runs a test for every yield\n",
    "        for _ in xrange(100):\n",
    "            z = rand_range()\n",
    "            yield check_z, z\n",
    "\n",
    "\n",
    "testRandC = TestRandomC()"
   ]
  },
  {
   "cell_type": "code",
   "execution_count": 3,
   "metadata": {
    "collapsed": false,
    "scrolled": true
   },
   "outputs": [
    {
     "name": "stdout",
     "output_type": "stream",
     "text": [
      "z =  (0.862442194936-0.853580381244j)\n",
      "z**2 =  (0.0152070723625-1.47232747511j)\n",
      "z**2 + c =  (0.512187307836-2.78400069935j)\n",
      "juliamap(z) =  (0.512187307836-2.78400069935j)\n",
      "Test original spacing _d = 0.001\n",
      "Test new spacing of _d = 0.1\n",
      "_d =  0.1\n",
      "Test that complex plane is regenerated\n",
      "len(_complexplane) =  1600\n",
      "int(4.0 / 0.1)**2 =  1600\n",
      "Test that j.set exists, and is of the same length as j._complexplane\n"
     ]
    }
   ],
   "source": [
    "testRandC.setup()\n",
    "testRandC.test_juliamap()\n",
    "\n",
    "\n",
    "testRandC.test_c_value()\n",
    "testRandC.test_set_spacing()\n",
    "testRandC.test_generate()"
   ]
  },
  {
   "cell_type": "code",
   "execution_count": null,
   "metadata": {
    "collapsed": false,
    "scrolled": true
   },
   "outputs": [],
   "source": []
  },
  {
   "cell_type": "code",
   "execution_count": 7,
   "metadata": {
    "collapsed": false
   },
   "outputs": [],
   "source": [
    "testTriv = TestTrivial()\n",
    "testHuge = TestHuge()"
   ]
  },
  {
   "cell_type": "code",
   "execution_count": 5,
   "metadata": {
    "collapsed": false,
    "scrolled": false
   },
   "outputs": [
    {
     "data": {
      "text/plain": [
       "<generator object test_trivial_seed at 0x7fd03d5c8a00>"
      ]
     },
     "execution_count": 5,
     "metadata": {},
     "output_type": "execute_result"
    }
   ],
   "source": [
    "testTriv.setup_class()\n",
    "testTriv.test_trivial_seed()"
   ]
  },
  {
   "cell_type": "code",
   "execution_count": 6,
   "metadata": {
    "collapsed": false
   },
   "outputs": [
    {
     "data": {
      "text/plain": [
       "<generator object test_huge_seed at 0x7fd0440f43c0>"
      ]
     },
     "execution_count": 6,
     "metadata": {},
     "output_type": "execute_result"
    }
   ],
   "source": [
    "testHuge.setup_class()\n",
    "testHuge.test_huge_seed()"
   ]
  },
  {
   "cell_type": "code",
   "execution_count": null,
   "metadata": {
    "collapsed": true
   },
   "outputs": [],
   "source": []
  },
  {
   "cell_type": "code",
   "execution_count": null,
   "metadata": {
    "collapsed": true
   },
   "outputs": [],
   "source": []
  }
 ],
 "metadata": {
  "kernelspec": {
   "display_name": "Python 2",
   "language": "python",
   "name": "python2"
  },
  "language_info": {
   "codemirror_mode": {
    "name": "ipython",
    "version": 2
   },
   "file_extension": ".py",
   "mimetype": "text/x-python",
   "name": "python",
   "nbconvert_exporter": "python",
   "pygments_lexer": "ipython2",
   "version": "2.7.9"
  },
  "name": "juliaset.ipynb"
 },
 "nbformat": 4,
 "nbformat_minor": 0
}
